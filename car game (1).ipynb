{
 "cells": [
  {
   "cell_type": "code",
   "execution_count": 2,
   "metadata": {},
   "outputs": [
    {
     "name": "stdout",
     "output_type": "stream",
     "text": [
      "Guess: 1\n",
      "Guess: 5\n",
      "Guess: 3\n",
      "Sorry You Failed\n"
     ]
    }
   ],
   "source": [
    "secret_number=9\n",
    "guess_count = 0\n",
    "guess_limit = 3\n",
    "while guess_count < guess_limit:\n",
    "    guess = int(input(\"Guess: \"))\n",
    "    guess_count +=1\n",
    "    if guess == secret_number:\n",
    "        print(\"You Won!\")\n",
    "        break\n",
    "else:\n",
    "    print(\"Sorry You Failed\")"
   ]
  },
  {
   "cell_type": "code",
   "execution_count": null,
   "metadata": {},
   "outputs": [],
   "source": []
  },
  {
   "cell_type": "code",
   "execution_count": null,
   "metadata": {},
   "outputs": [],
   "source": []
  },
  {
   "cell_type": "code",
   "execution_count": 9,
   "metadata": {},
   "outputs": [
    {
     "name": "stdout",
     "output_type": "stream",
     "text": [
      "> help\n",
      " \n",
      "start = To start the car\n",
      "stop = To stop the car\n",
      "Quit = To quit\n",
      "> stop\n",
      "Car is already stopped!\n",
      "> start\n",
      "Car started... Ready to go...\n",
      "> start\n",
      "Car is already started!\n",
      "> stop\n",
      "Car Stopped\n",
      "> quit\n"
     ]
    }
   ],
   "source": [
    "command= \"\"\n",
    "started= False\n",
    "while True:\n",
    "    command= input(\"> \").lower()\n",
    "    if command == \"start\":\n",
    "        if started:\n",
    "            print(\"Car is already started!\")\n",
    "        else:\n",
    "            started = True\n",
    "            print(\"Car started... Ready to go...\")\n",
    "    elif command == \"stop\":\n",
    "        if not started:\n",
    "            print(\"Car is already stopped!\")\n",
    "        else:\n",
    "            started=False\n",
    "            print(\"Car Stopped\")\n",
    "    elif command == \"help\":\n",
    "        print(\"\"\" \n",
    "start = To start the car\n",
    "stop = To stop the car\n",
    "Quit = To quit\"\"\")\n",
    "    elif command == \"quit\":\n",
    "        break\n",
    "    else:\n",
    "        print(\"Sorry, I don't understand that!\")   "
   ]
  },
  {
   "cell_type": "code",
   "execution_count": null,
   "metadata": {},
   "outputs": [],
   "source": []
  },
  {
   "cell_type": "code",
   "execution_count": 12,
   "metadata": {},
   "outputs": [
    {
     "name": "stdout",
     "output_type": "stream",
     "text": [
      "xxxxx\n",
      "xx\n",
      "xxxxx\n",
      "xx\n",
      "xx\n"
     ]
    }
   ],
   "source": [
    "numbers= [5, 2, 5, 2, 2]\n",
    "for x_count in numbers:\n",
    "    print('x'* x_count)"
   ]
  },
  {
   "cell_type": "code",
   "execution_count": 21,
   "metadata": {},
   "outputs": [
    {
     "name": "stdout",
     "output_type": "stream",
     "text": [
      "xx\n",
      "xx\n",
      "xx\n",
      "xx\n",
      "xxxxxx\n"
     ]
    }
   ],
   "source": [
    "numbers= [2, 2, 2, 2, 6]\n",
    "for x_count in numbers:\n",
    "    output=''\n",
    "    for count in range(x_count):\n",
    "        output += 'x'\n",
    "    print(output)\n"
   ]
  },
  {
   "cell_type": "code",
   "execution_count": 30,
   "metadata": {},
   "outputs": [],
   "source": [
    "\n",
    "    "
   ]
  },
  {
   "cell_type": "code",
   "execution_count": 2,
   "metadata": {},
   "outputs": [
    {
     "name": "stdout",
     "output_type": "stream",
     "text": [
      "9\n"
     ]
    }
   ],
   "source": [
    "numbers=[5, 6, 8, 9, 2]\n",
    "max = numbers[0]\n",
    "\n",
    "for num in numbers:\n",
    "    if num > max:\n",
    "        max = num\n",
    "print(max)"
   ]
  },
  {
   "cell_type": "code",
   "execution_count": 9,
   "metadata": {},
   "outputs": [
    {
     "name": "stdout",
     "output_type": "stream",
     "text": [
      "[2, 6, 8]\n"
     ]
    }
   ],
   "source": [
    "numbers= [2,2, 6, 8, 6, 2, 8]\n",
    "uniques = []\n",
    "for number in numbers:\n",
    "    if number not in uniques:\n",
    "        uniques.append(number)\n",
    "print(uniques)"
   ]
  },
  {
   "cell_type": "code",
   "execution_count": null,
   "metadata": {},
   "outputs": [],
   "source": []
  }
 ],
 "metadata": {
  "kernelspec": {
   "display_name": "Python 3",
   "language": "python",
   "name": "python3"
  },
  "language_info": {
   "codemirror_mode": {
    "name": "ipython",
    "version": 3
   },
   "file_extension": ".py",
   "mimetype": "text/x-python",
   "name": "python",
   "nbconvert_exporter": "python",
   "pygments_lexer": "ipython3",
   "version": "3.8.5"
  }
 },
 "nbformat": 4,
 "nbformat_minor": 4
}
